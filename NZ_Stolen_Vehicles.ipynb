{
 "cells": [
  {
   "cell_type": "code",
   "execution_count": 1,
   "id": "df535c69",
   "metadata": {},
   "outputs": [],
   "source": [
    "import pandas as pd\n",
    "import numpy as np\n",
    "import seaborn as sns\n",
    "import matplotlib\n",
    "from matplotlib import pyplot as plt"
   ]
  },
  {
   "cell_type": "code",
   "execution_count": 2,
   "id": "5426c6b0",
   "metadata": {},
   "outputs": [],
   "source": [
    "from IPython.display import HTML, display\n",
    "\n",
    "def set_background(color):    \n",
    "    script = (\n",
    "        \"var cell = this.closest('.jp-CodeCell');\"\n",
    "        \"var editor = cell.querySelector('.jp-Editor');\"\n",
    "        \"editor.style.background='{}';\"\n",
    "        \"this.parentNode.removeChild(this)\"\n",
    "    ).format(color)\n",
    "    \n",
    "    display(HTML('<img src onerror=\"{}\" style=\"display:none\">'.format(script)))"
   ]
  },
  {
   "cell_type": "code",
   "execution_count": 3,
   "id": "e1359977",
   "metadata": {},
   "outputs": [
    {
     "data": {
      "text/html": [
       "<div>\n",
       "<style scoped>\n",
       "    .dataframe tbody tr th:only-of-type {\n",
       "        vertical-align: middle;\n",
       "    }\n",
       "\n",
       "    .dataframe tbody tr th {\n",
       "        vertical-align: top;\n",
       "    }\n",
       "\n",
       "    .dataframe thead th {\n",
       "        text-align: right;\n",
       "    }\n",
       "</style>\n",
       "<table border=\"1\" class=\"dataframe\">\n",
       "  <thead>\n",
       "    <tr style=\"text-align: right;\">\n",
       "      <th></th>\n",
       "      <th>005502</th>\n",
       "      <th>Red</th>\n",
       "      <th>CFMOTO</th>\n",
       "      <th>X520</th>\n",
       "      <th>0</th>\n",
       "      <th>Unnamed: 5</th>\n",
       "      <th>2022-12-05</th>\n",
       "      <th>Wellington</th>\n",
       "    </tr>\n",
       "  </thead>\n",
       "  <tbody>\n",
       "    <tr>\n",
       "      <th>0</th>\n",
       "      <td>02WRX</td>\n",
       "      <td>Black</td>\n",
       "      <td>Subaru</td>\n",
       "      <td>IMPREZA</td>\n",
       "      <td>2002</td>\n",
       "      <td>Saloon</td>\n",
       "      <td>2022-09-17</td>\n",
       "      <td>Canterbury</td>\n",
       "    </tr>\n",
       "    <tr>\n",
       "      <th>1</th>\n",
       "      <td>0NG8</td>\n",
       "      <td>Black</td>\n",
       "      <td>Ford</td>\n",
       "      <td>FALCON</td>\n",
       "      <td>1999</td>\n",
       "      <td>Saloon</td>\n",
       "      <td>2022-11-27</td>\n",
       "      <td>Central</td>\n",
       "    </tr>\n",
       "    <tr>\n",
       "      <th>2</th>\n",
       "      <td>1034W</td>\n",
       "      <td>Yellow</td>\n",
       "      <td>Briford</td>\n",
       "      <td>TRAILER</td>\n",
       "      <td>2001</td>\n",
       "      <td>Trailer</td>\n",
       "      <td>2022-11-15</td>\n",
       "      <td>Waitemata</td>\n",
       "    </tr>\n",
       "    <tr>\n",
       "      <th>3</th>\n",
       "      <td>104A3</td>\n",
       "      <td>Silver</td>\n",
       "      <td>Trailer</td>\n",
       "      <td>CT DIG 25</td>\n",
       "      <td>2021</td>\n",
       "      <td>Trailer - Heavy</td>\n",
       "      <td>2022-11-02</td>\n",
       "      <td>Waikato</td>\n",
       "    </tr>\n",
       "    <tr>\n",
       "      <th>4</th>\n",
       "      <td>108K8</td>\n",
       "      <td>Grey</td>\n",
       "      <td>Trailer</td>\n",
       "      <td>TANDEM</td>\n",
       "      <td>2021</td>\n",
       "      <td>Trailer</td>\n",
       "      <td>2022-12-15</td>\n",
       "      <td>Canterbury</td>\n",
       "    </tr>\n",
       "  </tbody>\n",
       "</table>\n",
       "</div>"
      ],
      "text/plain": [
       "  005502     Red   CFMOTO       X520     0       Unnamed: 5  2022-12-05  \\\n",
       "0  02WRX   Black   Subaru    IMPREZA  2002           Saloon  2022-09-17   \n",
       "1   0NG8   Black     Ford     FALCON  1999           Saloon  2022-11-27   \n",
       "2  1034W  Yellow  Briford    TRAILER  2001          Trailer  2022-11-15   \n",
       "3  104A3  Silver  Trailer  CT DIG 25  2021  Trailer - Heavy  2022-11-02   \n",
       "4  108K8    Grey  Trailer     TANDEM  2021          Trailer  2022-12-15   \n",
       "\n",
       "   Wellington  \n",
       "0  Canterbury  \n",
       "1     Central  \n",
       "2   Waitemata  \n",
       "3     Waikato  \n",
       "4  Canterbury  "
      ]
     },
     "execution_count": 3,
     "metadata": {},
     "output_type": "execute_result"
    }
   ],
   "source": [
    "stolen_vehicles = pd.read_csv(\"/Users/li/Downloads/stolenvehicles.csv\")\n",
    "stolen_vehicles.head(5)"
   ]
  },
  {
   "cell_type": "code",
   "execution_count": 4,
   "id": "c5801cf5",
   "metadata": {},
   "outputs": [
    {
     "data": {
      "text/html": [
       "<div>\n",
       "<style scoped>\n",
       "    .dataframe tbody tr th:only-of-type {\n",
       "        vertical-align: middle;\n",
       "    }\n",
       "\n",
       "    .dataframe tbody tr th {\n",
       "        vertical-align: top;\n",
       "    }\n",
       "\n",
       "    .dataframe thead th {\n",
       "        text-align: right;\n",
       "    }\n",
       "</style>\n",
       "<table border=\"1\" class=\"dataframe\">\n",
       "  <thead>\n",
       "    <tr style=\"text-align: right;\">\n",
       "      <th></th>\n",
       "      <th>PlateNumber</th>\n",
       "      <th>Color</th>\n",
       "      <th>Brand</th>\n",
       "      <th>Model</th>\n",
       "      <th>YearMade</th>\n",
       "      <th>VehicleType</th>\n",
       "      <th>DateStolen</th>\n",
       "      <th>Location</th>\n",
       "    </tr>\n",
       "  </thead>\n",
       "  <tbody>\n",
       "    <tr>\n",
       "      <th>0</th>\n",
       "      <td>005502</td>\n",
       "      <td>Red</td>\n",
       "      <td>CFMOTO</td>\n",
       "      <td>X520</td>\n",
       "      <td>0</td>\n",
       "      <td>NaN</td>\n",
       "      <td>2022-12-05</td>\n",
       "      <td>Wellington</td>\n",
       "    </tr>\n",
       "    <tr>\n",
       "      <th>1</th>\n",
       "      <td>02WRX</td>\n",
       "      <td>Black</td>\n",
       "      <td>Subaru</td>\n",
       "      <td>IMPREZA</td>\n",
       "      <td>2002</td>\n",
       "      <td>Saloon</td>\n",
       "      <td>2022-09-17</td>\n",
       "      <td>Canterbury</td>\n",
       "    </tr>\n",
       "    <tr>\n",
       "      <th>2</th>\n",
       "      <td>0NG8</td>\n",
       "      <td>Black</td>\n",
       "      <td>Ford</td>\n",
       "      <td>FALCON</td>\n",
       "      <td>1999</td>\n",
       "      <td>Saloon</td>\n",
       "      <td>2022-11-27</td>\n",
       "      <td>Central</td>\n",
       "    </tr>\n",
       "    <tr>\n",
       "      <th>3</th>\n",
       "      <td>1034W</td>\n",
       "      <td>Yellow</td>\n",
       "      <td>Briford</td>\n",
       "      <td>TRAILER</td>\n",
       "      <td>2001</td>\n",
       "      <td>Trailer</td>\n",
       "      <td>2022-11-15</td>\n",
       "      <td>Waitemata</td>\n",
       "    </tr>\n",
       "    <tr>\n",
       "      <th>4</th>\n",
       "      <td>104A3</td>\n",
       "      <td>Silver</td>\n",
       "      <td>Trailer</td>\n",
       "      <td>CT DIG 25</td>\n",
       "      <td>2021</td>\n",
       "      <td>Trailer - Heavy</td>\n",
       "      <td>2022-11-02</td>\n",
       "      <td>Waikato</td>\n",
       "    </tr>\n",
       "  </tbody>\n",
       "</table>\n",
       "</div>"
      ],
      "text/plain": [
       "  PlateNumber   Color    Brand      Model  YearMade      VehicleType  \\\n",
       "0      005502     Red   CFMOTO       X520         0              NaN   \n",
       "1       02WRX   Black   Subaru    IMPREZA      2002           Saloon   \n",
       "2        0NG8   Black     Ford     FALCON      1999           Saloon   \n",
       "3       1034W  Yellow  Briford    TRAILER      2001          Trailer   \n",
       "4       104A3  Silver  Trailer  CT DIG 25      2021  Trailer - Heavy   \n",
       "\n",
       "   DateStolen    Location  \n",
       "0  2022-12-05  Wellington  \n",
       "1  2022-09-17  Canterbury  \n",
       "2  2022-11-27     Central  \n",
       "3  2022-11-15   Waitemata  \n",
       "4  2022-11-02     Waikato  "
      ]
     },
     "execution_count": 4,
     "metadata": {},
     "output_type": "execute_result"
    }
   ],
   "source": [
    "header=['PlateNumber','Color','Brand','Model','YearMade','VehicleType','DateStolen','Location']\n",
    "stolen_vehicles = pd.read_csv(\"/Users/li/Downloads/stolenvehicles.csv\",names=header)\n",
    "stolen_vehicles.head()"
   ]
  },
  {
   "cell_type": "markdown",
   "id": "8bb50f10",
   "metadata": {},
   "source": [
    "## Color"
   ]
  },
  {
   "cell_type": "code",
   "execution_count": 5,
   "id": "9799ef6c",
   "metadata": {},
   "outputs": [
    {
     "data": {
      "text/plain": [
       "Silver    1443\n",
       "White     1062\n",
       "Black      690\n",
       "Blue       531\n",
       "Grey       487\n",
       "Red        386\n",
       "Green      231\n",
       "Gold        97\n",
       "Yellow      58\n",
       "Brown       52\n",
       "Orange      39\n",
       "Purple      27\n",
       "Cream       22\n",
       "Pink        11\n",
       "Name: Color, dtype: int64"
      ]
     },
     "execution_count": 5,
     "metadata": {},
     "output_type": "execute_result"
    }
   ],
   "source": [
    "stolen_vehicles['Color'].value_counts()"
   ]
  },
  {
   "cell_type": "code",
   "execution_count": 6,
   "id": "797e0d6c",
   "metadata": {},
   "outputs": [
    {
     "data": {
      "text/plain": [
       "0.6220794392523364"
      ]
     },
     "execution_count": 6,
     "metadata": {},
     "output_type": "execute_result"
    }
   ],
   "source": [
    "sum(stolen_vehicles['Color'].value_counts()[:3])/sum(stolen_vehicles['Color'].value_counts())"
   ]
  },
  {
   "cell_type": "markdown",
   "id": "40ee3501",
   "metadata": {},
   "source": [
    "### According to statistics, silver, white, and black vehicles are the top three victims among all vehicles stolen by thieves\n",
    "<div class=\"alert alert-info\">\n",
    "These three colors account for more than 62%. It seems that thieves prefer colors that are more common on security grounds to avoid getting caught, or it might be a biased conclusion simply because these colors have the largest base numbers. More in-depth investigation will be conducted using all on-road vehicles data pulled from the NZ Transport Agency. .</div> "
   ]
  },
  {
   "cell_type": "code",
   "execution_count": 7,
   "id": "ca18a0e5",
   "metadata": {},
   "outputs": [
    {
     "name": "stdout",
     "output_type": "stream",
     "text": [
      "<class 'pandas.core.frame.DataFrame'>\n",
      "RangeIndex: 5687980 entries, 0 to 5687979\n",
      "Data columns (total 38 columns):\n",
      " #   Column                       Dtype  \n",
      "---  ------                       -----  \n",
      " 0   ALTERNATIVE_MOTIVE_POWER     object \n",
      " 1   BASIC_COLOUR                 object \n",
      " 2   BODY_TYPE                    object \n",
      " 3   CC_RATING                    int64  \n",
      " 4   CHASSIS7                     object \n",
      " 5   CLASS                        object \n",
      " 6   ENGINE_NUMBER                object \n",
      " 7   FIRST_NZ_REGISTRATION_YEAR   float64\n",
      " 8   FIRST_NZ_REGISTRATION_MONTH  float64\n",
      " 9   GROSS_VEHICLE_MASS           float64\n",
      " 10  HEIGHT                       int64  \n",
      " 11  IMPORT_STATUS                object \n",
      " 12  INDUSTRY_CLASS               object \n",
      " 13  INDUSTRY_MODEL_CODE          object \n",
      " 14  MAKE                         object \n",
      " 15  MODEL                        object \n",
      " 16  MOTIVE_POWER                 object \n",
      " 17  MVMA_MODEL_CODE              object \n",
      " 18  NUMBER_OF_AXLES              int64  \n",
      " 19  NUMBER_OF_SEATS              int64  \n",
      " 20  NZ_ASSEMBLED                 object \n",
      " 21  ORIGINAL_COUNTRY             object \n",
      " 22  POWER_RATING                 int64  \n",
      " 23  PREVIOUS_COUNTRY             object \n",
      " 24  ROAD_TRANSPORT_CODE          object \n",
      " 25  SUBMODEL                     object \n",
      " 26  TLA                          object \n",
      " 27  TRANSMISSION_TYPE            string \n",
      " 28  VDAM_WEIGHT                  int64  \n",
      " 29  VEHICLE_TYPE                 object \n",
      " 30  VEHICLE_USAGE                object \n",
      " 31  VEHICLE_YEAR                 int64  \n",
      " 32  VIN11                        object \n",
      " 33  WIDTH                        int64  \n",
      " 34  SYNTHETIC_GREENHOUSE_GAS     string \n",
      " 35  FC_COMBINED                  float64\n",
      " 36  FC_URBAN                     float64\n",
      " 37  FC_EXTRA_URBAN               float64\n",
      "dtypes: float64(6), int64(8), object(22), string(2)\n",
      "memory usage: 1.6+ GB\n"
     ]
    }
   ],
   "source": [
    "#The New Zealand vehicle fleet open data provides a point-in-time ‘snapshot’ of \n",
    "#all vehicles currently registered in New Zealand43\n",
    "#algorithmically cleaned\n",
    "fleet = pd.read_csv(\"/Users/li/Downloads/Fleet-30112022.csv\",dtype={\"TRANSMISSION_TYPE\": \"string\", \"SYNTHETIC_GREENHOUSE_GAS\": \"string\"})\n",
    "fleet.info()"
   ]
  },
  {
   "cell_type": "code",
   "execution_count": 8,
   "id": "e0328935",
   "metadata": {},
   "outputs": [],
   "source": [
    "total_c=fleet['BASIC_COLOUR'].str.lower().value_counts().to_frame('count')\n",
    "stolen_c=stolen_vehicles['Color'].str.lower().value_counts().to_frame('count')\n",
    "\n",
    "merge=pd.merge(stolen_c, total_c, left_index=True, right_index=True)\n",
    "merge['ratio']=merge['count_x']/merge['count_y']*100"
   ]
  },
  {
   "cell_type": "code",
   "execution_count": 9,
   "id": "2f33333d",
   "metadata": {},
   "outputs": [
    {
     "data": {
      "text/plain": [
       "silver    11.59%\n",
       "white      8.41%\n",
       "black     10.48%\n",
       "blue       7.91%\n",
       "grey       7.49%\n",
       "red        7.09%\n",
       "green      9.14%\n",
       "gold      11.21%\n",
       "yellow     7.12%\n",
       "brown      5.97%\n",
       "orange     5.10%\n",
       "purple     7.85%\n",
       "cream      7.59%\n",
       "pink      15.34%\n",
       "Name: ratio, dtype: object"
      ]
     },
     "execution_count": 9,
     "metadata": {},
     "output_type": "execute_result"
    }
   ],
   "source": [
    "Ratio=merge['ratio'].map(lambda x: \"{:,.2%}\".format(x))\n",
    "Ratio"
   ]
  },
  {
   "cell_type": "markdown",
   "id": "719e181d",
   "metadata": {},
   "source": [
    "<div class=\"alert alert-info\">\n",
    "Based on the theft rate of each color in comparison to the total number of vehicles in the corresponding color group, <mark>Pink</mark> appears to be the favorite choice of thieves at a prominent rate of <mark>15.34%</mark>; followed by <mark>silver, gold, and black</mark>, which are all over <mark>10%</mark>;<mark>Orange</mark> proved to be the least popular color among thieves, accounting for only <mark>5.10%</mark> on the records. </div> "
   ]
  },
  {
   "cell_type": "markdown",
   "id": "6461291d",
   "metadata": {},
   "source": [
    "### Day of Week"
   ]
  },
  {
   "cell_type": "code",
   "execution_count": 10,
   "id": "8a2ded87",
   "metadata": {},
   "outputs": [
    {
     "data": {
      "text/plain": [
       "Monday       904\n",
       "Tuesday      774\n",
       "Wednesday    734\n",
       "Thursday     732\n",
       "Friday       729\n",
       "Saturday     644\n",
       "Sunday       637\n",
       "Name: Day, dtype: int64"
      ]
     },
     "execution_count": 10,
     "metadata": {},
     "output_type": "execute_result"
    }
   ],
   "source": [
    "stolen_vehicles['Day'] = pd.to_datetime(stolen_vehicles['DateStolen']).dt.day_name()\n",
    "stolen_vehicles['Day'].value_counts()"
   ]
  },
  {
   "cell_type": "code",
   "execution_count": 11,
   "id": "d88f51d4",
   "metadata": {},
   "outputs": [
    {
     "data": {
      "image/png": "[encoded data removed]",
      "text/plain": [
       "<Figure size 432x288 with 1 Axes>"
      ]
     },
     "metadata": {},
     "output_type": "display_data"
    }
   ],
   "source": [
    "plt.pie(stolen_vehicles['Day'].value_counts(),labels = stolen_vehicles['Day'].value_counts().index.to_list(),shadow=True, autopct='%1.1f%%')\n",
    "plt.axis('equal')\n",
    "plt.title(\"Theft Rate by Day of Week\",fontsize=15,y=1.1)\n",
    "plt.show() "
   ]
  },
  {
   "cell_type": "code",
   "execution_count": 12,
   "id": "0b8b155d",
   "metadata": {},
   "outputs": [
    {
     "name": "stdout",
     "output_type": "stream",
     "text": [
      "Weekdays_rate 15.03%\n",
      "Weekends_rate 12.43%\n"
     ]
    }
   ],
   "source": [
    "stolen_vehicles['Weekends?']=pd.to_datetime(stolen_vehicles['DateStolen']).dt.weekday\n",
    "stolen_vehicles.loc[stolen_vehicles['Weekends?']>=5,\"Weekends?\"]=\"Weekend\"\n",
    "stolen_vehicles.loc[stolen_vehicles['Weekends?']!=\"Weekend\",\"Weekends?\"]=\"Weekday\"\n",
    "Weekdays_rate=stolen_vehicles['Weekends?'].value_counts(normalize=True)[0]/5\n",
    "print(\"Weekdays_rate\",\"{:,.2%}\".format(Weekdays_rate))\n",
    "Weekends_rate=stolen_vehicles['Weekends?'].value_counts(normalize=True)[1]/2\n",
    "print(\"Weekends_rate\",\"{:,.2%}\".format(Weekends_rate))"
   ]
  },
  {
   "cell_type": "markdown",
   "id": "86af2fb3",
   "metadata": {},
   "source": [
    "### Thieves prefer weekdays and Mondays have the highest theft rate.\n",
    "<div class=\"alert alert-info\">\n",
    "According to the data, <mark>cars are most likely to be stolen on Monday</mark> in New Zealand, accounting for <mark>17.54%</mark> of all data, which is two percentage points higher than the average. <mark>Sunday</mark> is the <mark>safest</mark> day, accounting for 12.36%. Therefore, New Zealanders should pay more attention when driving on Monday. Additionally, the average number of stolen cars per day on weekdays accounts for 15.03% of all data, while daily theft rate of weekends accounts for 12.43%, presenting a difference of more than two percentage points. This may be because people are more likely to commute to work by car during the week, resulting in more cars on the road and more opportunities for thieves.</div> "
   ]
  },
  {
   "cell_type": "markdown",
   "id": "ea9cc908",
   "metadata": {},
   "source": [
    "## Trend"
   ]
  },
  {
   "cell_type": "code",
   "execution_count": 13,
   "id": "9393e495",
   "metadata": {},
   "outputs": [
    {
     "data": {
      "text/plain": [
       "6       33\n",
       "7      662\n",
       "8      678\n",
       "9      778\n",
       "10     852\n",
       "11     953\n",
       "12    1198\n",
       "Name: month, dtype: int64"
      ]
     },
     "execution_count": 13,
     "metadata": {},
     "output_type": "execute_result"
    }
   ],
   "source": [
    "stolen_vehicles['month'] = pd.to_datetime(stolen_vehicles['DateStolen']).dt.month\n",
    "stolen_vehicles['month'].value_counts(ascending=True)"
   ]
  },
  {
   "cell_type": "code",
   "execution_count": 14,
   "id": "bd0e83e2",
   "metadata": {},
   "outputs": [
    {
     "data": {
      "image/png": "[encoded data removed]",
      "text/plain": [
       "<Figure size 432x288 with 1 Axes>"
      ]
     },
     "metadata": {
      "needs_background": "light"
     },
     "output_type": "display_data"
    }
   ],
   "source": [
    "stolen_vehicles['month'].value_counts(ascending=True).plot(kind='bar')\n",
    "plt.legend(loc='lower center',bbox_to_anchor=(0.5, -0.25))\n",
    "plt.show()"
   ]
  },
  {
   "cell_type": "code",
   "execution_count": 15,
   "id": "498093ba",
   "metadata": {},
   "outputs": [
    {
     "data": {
      "text/plain": [
       "28.318681318681318"
      ]
     },
     "execution_count": 15,
     "metadata": {},
     "output_type": "execute_result"
    }
   ],
   "source": [
    "#average number of vehicles stolen per day\n",
    "mean = len(stolen_vehicles) / len(stolen_vehicles['DateStolen'].unique())\n",
    "mean"
   ]
  },
  {
   "cell_type": "markdown",
   "id": "10244c0e",
   "metadata": {},
   "source": [
    "### The number of stolen vehicles is increasing month over month, posing a security risk to the society \n",
    "<div class=\"alert alert-info\">\n",
    "The result above shows that from July to December in 2022, <mark>an upward trend</mark> is cleary demonstrated by the monthly data, reaching its peak in December with a month-on-month expansion rate of 25.7%. The growth rate compared to July is shocking, reaching a staggering 181% increase. On average, there are 28 stolen vehicles reported per day in New Zealand. The increasing prevalence of car theft in New Zealand indicates a security risk in society. The government should implement policies to strengthen penalties for car theft in order to protect people's property. In addition, New Zealanders should be vigilant about protecting their own vehicles by prioritizing car safety when traveling.</div> "
   ]
  },
  {
   "cell_type": "markdown",
   "id": "6403a55b",
   "metadata": {},
   "source": [
    "### VehicleType"
   ]
  },
  {
   "cell_type": "code",
   "execution_count": 16,
   "id": "0aa84369",
   "metadata": {},
   "outputs": [
    {
     "data": {
      "text/plain": [
       "Stationwagon       1113\n",
       "Saloon              910\n",
       "Hatchback           737\n",
       "Trailer             718\n",
       "Utility             572\n",
       "Roadbike            302\n",
       "Moped               198\n",
       "Light Van           184\n",
       "Trailer - Heavy      92\n",
       "Boat Trailer         73\n",
       "Caravan              53\n",
       "Other Truck          37\n",
       "Name: VehicleType, dtype: int64"
      ]
     },
     "execution_count": 16,
     "metadata": {},
     "output_type": "execute_result"
    }
   ],
   "source": [
    "stolen_vehicles['VehicleType'].value_counts()[:12]"
   ]
  },
  {
   "cell_type": "code",
   "execution_count": 17,
   "id": "76864eeb",
   "metadata": {},
   "outputs": [
    {
     "data": {
      "image/png": "[encoded data removed]",
      "text/plain": [
       "<Figure size 432x288 with 1 Axes>"
      ]
     },
     "metadata": {},
     "output_type": "display_data"
    }
   ],
   "source": [
    "plt.pie(stolen_vehicles['VehicleType'].value_counts()[:12],labels = stolen_vehicles['VehicleType'].value_counts()[:12].index.to_list(),shadow=True,autopct='%1.1f%%')\n",
    "plt.title(\"Stolen Vehicles by Vehicle Type\",fontsize=15,y=1)\n",
    "plt.show() "
   ]
  },
  {
   "cell_type": "markdown",
   "id": "708dd322",
   "metadata": {},
   "source": [
    "### The station wagon model has become the favorite among thieves, accounting for 22.3% of all stolen vehicles\n",
    "<div class=\"alert alert-info\">\n",
    "Of all the stolen cars, <mark>station wagons, saloons, hatchbacks, trailers, and utilities accounted for 81.2%</mark> of the total data. Among them, the station wagon model is the most popular choice of theives. It is suggested that car companies should consider increasing their investment in research and development of anti-theft features for station wagon models in order to address this issue</div> "
   ]
  },
  {
   "cell_type": "markdown",
   "id": "9ff6636c",
   "metadata": {},
   "source": [
    "### YearMade"
   ]
  },
  {
   "cell_type": "code",
   "execution_count": 18,
   "id": "ec554025",
   "metadata": {},
   "outputs": [
    {
     "data": {
      "image/png": "[encoded data removed]",
      "text/plain": [
       "<Figure size 1296x360 with 1 Axes>"
      ]
     },
     "metadata": {
      "needs_background": "light"
     },
     "output_type": "display_data"
    }
   ],
   "source": [
    "stolen_vehicles.groupby([\"YearMade\"]).sum().plot(kind='bar',figsize=(18,5))\n",
    "plt.legend(loc='lower center',bbox_to_anchor=(0.5, -0.3))\n",
    "plt.show()"
   ]
  },
  {
   "cell_type": "markdown",
   "id": "8f1fccde",
   "metadata": {},
   "source": [
    "<div class=\"alert alert-info\">\n",
    "The graph above appears that the production years of stolen vehicles are primarily concentrated between 1995 and 2022. However, a significantly larger number of stolen vehicles were produced between 1995 and 2009 compared to those produced after 2009. It is worth considering whether this is due to the fact that there are more older vehicles in New Zealand or if thieves simply prefer stealing older vehicles.</div> "
   ]
  },
  {
   "cell_type": "code",
   "execution_count": 19,
   "id": "bbc1c735",
   "metadata": {},
   "outputs": [
    {
     "data": {
      "text/plain": [
       "1996    0.201328\n",
       "2002    0.168321\n",
       "1999    0.167329\n",
       "1993    0.162747\n",
       "1997    0.161944\n",
       "2003    0.161554\n",
       "2000    0.160557\n",
       "1998    0.155110\n",
       "1992    0.147471\n",
       "2001    0.141674\n",
       "Name: theft_rate_by_yearmade, dtype: float64"
      ]
     },
     "execution_count": 19,
     "metadata": {},
     "output_type": "execute_result"
    }
   ],
   "source": [
    "#work on the theft rate of each year the cars been made in comparison to the total number \n",
    "#of vehicles in the corresponding year group\n",
    "\n",
    "total_ym=fleet['VEHICLE_YEAR'].value_counts().to_frame('count')\n",
    "stolen_ym=stolen_vehicles[stolen_vehicles[\"YearMade\"]!=0][\"YearMade\"].value_counts().to_frame('count')\n",
    "\n",
    "year=pd.merge(stolen_ym, total_ym, left_index=True, right_index=True)\n",
    "year['theft_rate_by_yearmade']=year['count_x']/year['count_y']*100\n",
    "year['theft_rate_by_yearmade'].sort_values(ascending=False).head(10)"
   ]
  },
  {
   "cell_type": "code",
   "execution_count": 20,
   "id": "b04bfed3",
   "metadata": {},
   "outputs": [
    {
     "data": {
      "text/plain": [
       "1.8921541451104675"
      ]
     },
     "execution_count": 20,
     "metadata": {},
     "output_type": "execute_result"
    }
   ],
   "source": [
    "#theft_rate between 1996-2008\n",
    "year[(year['theft_rate_by_yearmade'].index>=1996) & (year['theft_rate_by_yearmade'].index<2009)]['theft_rate_by_yearmade'].sum()"
   ]
  },
  {
   "cell_type": "code",
   "execution_count": 21,
   "id": "ad6ce3c2",
   "metadata": {},
   "outputs": [
    {
     "data": {
      "text/plain": [
       "0.8731866858956931"
      ]
     },
     "execution_count": 21,
     "metadata": {},
     "output_type": "execute_result"
    }
   ],
   "source": [
    "#theft_rate from 2009\n",
    "year[year['theft_rate_by_yearmade'].index>=2009]['theft_rate_by_yearmade'].sum()"
   ]
  },
  {
   "cell_type": "markdown",
   "id": "5a51d4f1",
   "metadata": {},
   "source": [
    "### Based on the result, now we can come to a conclusion that thieves tend to target older cars that produced after 1995 and  before 2009 ."
   ]
  },
  {
   "cell_type": "markdown",
   "id": "6d02e35c",
   "metadata": {},
   "source": [
    "### Location"
   ]
  },
  {
   "cell_type": "code",
   "execution_count": 22,
   "id": "c7dda598",
   "metadata": {},
   "outputs": [
    {
     "data": {
      "text/plain": [
       "Canterbury                  890\n",
       "Counties/Manukau            633\n",
       "Auckland City               544\n",
       "Waikato                     512\n",
       "Waitemata                   491\n",
       "Central                     468\n",
       "Wellington                  435\n",
       "Bay of Plenty               388\n",
       "Northland                   337\n",
       "Eastern                     228\n",
       "Southern                    155\n",
       "Tasman                       71\n",
       "Not Specified (District)      2\n",
       "Name: Location, dtype: int64"
      ]
     },
     "execution_count": 22,
     "metadata": {},
     "output_type": "execute_result"
    }
   ],
   "source": [
    "stolen_vehicles[\"Location\"].value_counts()"
   ]
  },
  {
   "cell_type": "code",
   "execution_count": 23,
   "id": "54bda4be",
   "metadata": {},
   "outputs": [
    {
     "data": {
      "image/png": "[encoded data removed]",
      "text/plain": [
       "<Figure size 432x288 with 1 Axes>"
      ]
     },
     "metadata": {},
     "output_type": "display_data"
    }
   ],
   "source": [
    "plt.pie(stolen_vehicles[\"Location\"].value_counts(),labels = stolen_vehicles[\"Location\"].value_counts().index.to_list(),shadow=True,autopct='%1.1f%%')\n",
    "plt.title(\"aaa\",fontsize=15,y=1)\n",
    "plt.show() "
   ]
  },
  {
   "cell_type": "code",
   "execution_count": 24,
   "id": "63c24b6d",
   "metadata": {},
   "outputs": [],
   "source": [
    "#replace ambiguous locations with the most relevant geographical areas for ploting\n",
    "#Central: Auckland CBD, Southern: Queenstown(these two spots were pinned in Europe before clarification)\n",
    "sv_location=stolen_vehicles[\"Location\"].value_counts()[:-1].to_frame('num')\n",
    "sv_location['Location']=['Canterbury', 'Counties/Manukau', 'Auckland', 'Waikato',\n",
    "       'Waitemata', 'Auckland CBD', 'Wellington', 'Bay of Plenty', 'Northland',\n",
    "       'Eastern', 'Queenstown', 'Tasman']\n",
    "sv_location.set_index('Location',drop=True,inplace=True)"
   ]
  },
  {
   "cell_type": "code",
   "execution_count": 25,
   "id": "fbc8e166",
   "metadata": {},
   "outputs": [
    {
     "data": {
      "text/plain": [
       "Location(New Zealand / Aotearoa, (-41.5000831, 172.8344077, 0.0))"
      ]
     },
     "execution_count": 25,
     "metadata": {},
     "output_type": "execute_result"
    }
   ],
   "source": [
    "from geopy.geocoders import Nominatim\n",
    "geolocator = Nominatim(user_agent=\"mapitout\")\n",
    "data = geolocator.geocode('NZ')\n",
    "data"
   ]
  },
  {
   "cell_type": "code",
   "execution_count": 26,
   "id": "4917857f",
   "metadata": {},
   "outputs": [
    {
     "data": {
      "text/html": [
       "<div style=\"width:100%;\"><div style=\"position:relative;width:100%;height:0;padding-bottom:60%;\"><span style=\"color:#565656\">Make this Notebook Trusted to load map: File -> Trust Notebook</span><iframe srcdoc=\"&lt;!DOCTYPE html&gt;\n",
       "&lt;html&gt;\n",
       "&lt;head&gt;\n",
       "    \n",
       "    &lt;meta http-equiv=&quot;content-type&quot; content=&quot;text/html; charset=UTF-8&quot; /&gt;\n",
       "    \n",
       "        &lt;script&gt;\n",
       "            L_NO_TOUCH = false;\n",
       "            L_DISABLE_3D = false;\n",
       "        &lt;/script&gt;\n",
       "    \n",
       "    &lt;style&gt;html, body {width: 100%;height: 100%;margin: 0;padding: 0;}&lt;/style&gt;\n",
       "    &lt;style&gt;#map {position:absolute;top:0;bottom:0;right:0;left:0;}&lt;/style&gt;\n",
       "    &lt;script src=&quot;https://cdn.jsdelivr.net/npm/leaflet@1.9.3/dist/leaflet.js&quot;&gt;&lt;/script&gt;\n",
       "    &lt;script src=&quot;https://code.jquery.com/jquery-1.12.4.min.js&quot;&gt;&lt;/script&gt;\n",
       "    &lt;script src=&quot;https://cdn.jsdelivr.net/npm/bootstrap@5.2.2/dist/js/bootstrap.bundle.min.js&quot;&gt;&lt;/script&gt;\n",
       "    &lt;script src=&quot;https://cdnjs.cloudflare.com/ajax/libs/Leaflet.awesome-markers/2.0.2/leaflet.awesome-markers.js&quot;&gt;&lt;/script&gt;\n",
       "    &lt;link rel=&quot;stylesheet&quot; href=&quot;https://cdn.jsdelivr.net/npm/leaflet@1.9.3/dist/leaflet.css&quot;/&gt;\n",
       "    &lt;link rel=&quot;stylesheet&quot; href=&quot;https://cdn.jsdelivr.net/npm/bootstrap@5.2.2/dist/css/bootstrap.min.css&quot;/&gt;\n",
       "    &lt;link rel=&quot;stylesheet&quot; href=&quot;https://netdna.bootstrapcdn.com/bootstrap/3.0.0/css/bootstrap.min.css&quot;/&gt;\n",
       "    &lt;link rel=&quot;stylesheet&quot; href=&quot;https://cdn.jsdelivr.net/npm/@fortawesome/fontawesome-free@6.2.0/css/all.min.css&quot;/&gt;\n",
       "    &lt;link rel=&quot;stylesheet&quot; href=&quot;https://cdnjs.cloudflare.com/ajax/libs/Leaflet.awesome-markers/2.0.2/leaflet.awesome-markers.css&quot;/&gt;\n",
       "    &lt;link rel=&quot;stylesheet&quot; href=&quot;https://cdn.jsdelivr.net/gh/python-visualization/folium/folium/templates/leaflet.awesome.rotate.min.css&quot;/&gt;\n",
       "    \n",
       "            &lt;meta name=&quot;viewport&quot; content=&quot;width=device-width,\n",
       "                initial-scale=1.0, maximum-scale=1.0, user-scalable=no&quot; /&gt;\n",
       "            &lt;style&gt;\n",
       "                #map_7f0a48a17329c38ffcd9131903db1620 {\n",
       "                    position: relative;\n",
       "                    width: 100.0%;\n",
       "                    height: 100.0%;\n",
       "                    left: 0.0%;\n",
       "                    top: 0.0%;\n",
       "                }\n",
       "                .leaflet-container { font-size: 1rem; }\n",
       "            &lt;/style&gt;\n",
       "        \n",
       "&lt;/head&gt;\n",
       "&lt;body&gt;\n",
       "    \n",
       "    \n",
       "            &lt;div class=&quot;folium-map&quot; id=&quot;map_7f0a48a17329c38ffcd9131903db1620&quot; &gt;&lt;/div&gt;\n",
       "        \n",
       "&lt;/body&gt;\n",
       "&lt;script&gt;\n",
       "    \n",
       "    \n",
       "            var map_7f0a48a17329c38ffcd9131903db1620 = L.map(\n",
       "                &quot;map_7f0a48a17329c38ffcd9131903db1620&quot;,\n",
       "                {\n",
       "                    center: [-41.5000831, 172.8344077],\n",
       "                    crs: L.CRS.EPSG3857,\n",
       "                    zoom: 13,\n",
       "                    zoomControl: true,\n",
       "                    preferCanvas: false,\n",
       "                }\n",
       "            );\n",
       "\n",
       "            \n",
       "\n",
       "        \n",
       "    \n",
       "            var tile_layer_7fd4b8203681a1123bbdd5f1d34fa0e3 = L.tileLayer(\n",
       "                &quot;https://{s}.tile.openstreetmap.org/{z}/{x}/{y}.png&quot;,\n",
       "                {&quot;attribution&quot;: &quot;Data by \\u0026copy; \\u003ca target=\\&quot;_blank\\&quot; href=\\&quot;http://openstreetmap.org\\&quot;\\u003eOpenStreetMap\\u003c/a\\u003e, under \\u003ca target=\\&quot;_blank\\&quot; href=\\&quot;http://www.openstreetmap.org/copyright\\&quot;\\u003eODbL\\u003c/a\\u003e.&quot;, &quot;detectRetina&quot;: false, &quot;maxNativeZoom&quot;: 18, &quot;maxZoom&quot;: 18, &quot;minZoom&quot;: 0, &quot;noWrap&quot;: false, &quot;opacity&quot;: 1, &quot;subdomains&quot;: &quot;abc&quot;, &quot;tms&quot;: false}\n",
       "            ).addTo(map_7f0a48a17329c38ffcd9131903db1620);\n",
       "        \n",
       "    \n",
       "            var marker_0bd7dbf7bb30acb4565c1e0da216dc80 = L.marker(\n",
       "                [-43.49417615, 171.8098447584145],\n",
       "                {}\n",
       "            ).addTo(map_7f0a48a17329c38ffcd9131903db1620);\n",
       "        \n",
       "    \n",
       "            var div_icon_039f241f8fd72a912b018129b7e9cb27 = L.divIcon({&quot;className&quot;: &quot;empty&quot;, &quot;html&quot;: &quot;\\u003cdiv style=\\&quot;font-size: 12pt; color : black\\&quot;\\u003e890\\u003c/div\\u003e&quot;, &quot;iconAnchor&quot;: [7, 20], &quot;iconSize&quot;: [150, 36]});\n",
       "            marker_0bd7dbf7bb30acb4565c1e0da216dc80.setIcon(div_icon_039f241f8fd72a912b018129b7e9cb27);\n",
       "        \n",
       "    \n",
       "        var popup_7919c779876cfb940dc6923b6cb9d12c = L.popup({&quot;maxWidth&quot;: &quot;100%&quot;});\n",
       "\n",
       "        \n",
       "            \n",
       "                var html_335806bfc97bcbed51f5b7fb0f001148 = $(`&lt;div id=&quot;html_335806bfc97bcbed51f5b7fb0f001148&quot; style=&quot;width: 100.0%; height: 100.0%;&quot;&gt;Canterbury&lt;/div&gt;`)[0];\n",
       "                popup_7919c779876cfb940dc6923b6cb9d12c.setContent(html_335806bfc97bcbed51f5b7fb0f001148);\n",
       "            \n",
       "        \n",
       "\n",
       "        marker_0bd7dbf7bb30acb4565c1e0da216dc80.bindPopup(popup_7919c779876cfb940dc6923b6cb9d12c)\n",
       "        ;\n",
       "\n",
       "        \n",
       "    \n",
       "    \n",
       "            var marker_00c04d0524873b0d7b3e20c3c16a6ccf = L.marker(\n",
       "                [-37.1984291, 174.9087676],\n",
       "                {}\n",
       "            ).addTo(map_7f0a48a17329c38ffcd9131903db1620);\n",
       "        \n",
       "    \n",
       "            var div_icon_af7c7ac442ade0f4add4b90cb42b4821 = L.divIcon({&quot;className&quot;: &quot;empty&quot;, &quot;html&quot;: &quot;\\u003cdiv style=\\&quot;font-size: 12pt; color : black\\&quot;\\u003e633\\u003c/div\\u003e&quot;, &quot;iconAnchor&quot;: [7, 20], &quot;iconSize&quot;: [150, 36]});\n",
       "            marker_00c04d0524873b0d7b3e20c3c16a6ccf.setIcon(div_icon_af7c7ac442ade0f4add4b90cb42b4821);\n",
       "        \n",
       "    \n",
       "        var popup_426420f558c4d98c747f604cdf2cb1a1 = L.popup({&quot;maxWidth&quot;: &quot;100%&quot;});\n",
       "\n",
       "        \n",
       "            \n",
       "                var html_242a5699625618aa067eac4b27b0ae72 = $(`&lt;div id=&quot;html_242a5699625618aa067eac4b27b0ae72&quot; style=&quot;width: 100.0%; height: 100.0%;&quot;&gt;Counties/Manukau&lt;/div&gt;`)[0];\n",
       "                popup_426420f558c4d98c747f604cdf2cb1a1.setContent(html_242a5699625618aa067eac4b27b0ae72);\n",
       "            \n",
       "        \n",
       "\n",
       "        marker_00c04d0524873b0d7b3e20c3c16a6ccf.bindPopup(popup_426420f558c4d98c747f604cdf2cb1a1)\n",
       "        ;\n",
       "\n",
       "        \n",
       "    \n",
       "    \n",
       "            var marker_f9f23c43e10c575bd4433826ca948428 = L.marker(\n",
       "                [-36.852095, 174.7631803],\n",
       "                {}\n",
       "            ).addTo(map_7f0a48a17329c38ffcd9131903db1620);\n",
       "        \n",
       "    \n",
       "            var div_icon_c7286041d7854767276af4e846aa7853 = L.divIcon({&quot;className&quot;: &quot;empty&quot;, &quot;html&quot;: &quot;\\u003cdiv style=\\&quot;font-size: 12pt; color : black\\&quot;\\u003e544\\u003c/div\\u003e&quot;, &quot;iconAnchor&quot;: [7, 20], &quot;iconSize&quot;: [150, 36]});\n",
       "            marker_f9f23c43e10c575bd4433826ca948428.setIcon(div_icon_c7286041d7854767276af4e846aa7853);\n",
       "        \n",
       "    \n",
       "        var popup_b3e056d9ef4aae7dc10798257290749f = L.popup({&quot;maxWidth&quot;: &quot;100%&quot;});\n",
       "\n",
       "        \n",
       "            \n",
       "                var html_d73140451b8b0ec3babb7016ebcff538 = $(`&lt;div id=&quot;html_d73140451b8b0ec3babb7016ebcff538&quot; style=&quot;width: 100.0%; height: 100.0%;&quot;&gt;Auckland&lt;/div&gt;`)[0];\n",
       "                popup_b3e056d9ef4aae7dc10798257290749f.setContent(html_d73140451b8b0ec3babb7016ebcff538);\n",
       "            \n",
       "        \n",
       "\n",
       "        marker_f9f23c43e10c575bd4433826ca948428.bindPopup(popup_b3e056d9ef4aae7dc10798257290749f)\n",
       "        ;\n",
       "\n",
       "        \n",
       "    \n",
       "    \n",
       "            var marker_af93060ba3dcdf05fbf96b9f773aaf20 = L.marker(\n",
       "                [-37.77922725, 175.2010323246593],\n",
       "                {}\n",
       "            ).addTo(map_7f0a48a17329c38ffcd9131903db1620);\n",
       "        \n",
       "    \n",
       "            var div_icon_22d602a347fc406ffc1d1f95a15c9762 = L.divIcon({&quot;className&quot;: &quot;empty&quot;, &quot;html&quot;: &quot;\\u003cdiv style=\\&quot;font-size: 12pt; color : black\\&quot;\\u003e512\\u003c/div\\u003e&quot;, &quot;iconAnchor&quot;: [7, 20], &quot;iconSize&quot;: [150, 36]});\n",
       "            marker_af93060ba3dcdf05fbf96b9f773aaf20.setIcon(div_icon_22d602a347fc406ffc1d1f95a15c9762);\n",
       "        \n",
       "    \n",
       "        var popup_60c76e111b268b365e20f6bbc864570e = L.popup({&quot;maxWidth&quot;: &quot;100%&quot;});\n",
       "\n",
       "        \n",
       "            \n",
       "                var html_b87c30d95909dea8aa8ecf03e2b1392a = $(`&lt;div id=&quot;html_b87c30d95909dea8aa8ecf03e2b1392a&quot; style=&quot;width: 100.0%; height: 100.0%;&quot;&gt;Waikato&lt;/div&gt;`)[0];\n",
       "                popup_60c76e111b268b365e20f6bbc864570e.setContent(html_b87c30d95909dea8aa8ecf03e2b1392a);\n",
       "            \n",
       "        \n",
       "\n",
       "        marker_af93060ba3dcdf05fbf96b9f773aaf20.bindPopup(popup_60c76e111b268b365e20f6bbc864570e)\n",
       "        ;\n",
       "\n",
       "        \n",
       "    \n",
       "    \n",
       "            var marker_b6d08adf83c60dc0b210063407d52c4e = L.marker(\n",
       "                [-36.8212269, 174.66980735394168],\n",
       "                {}\n",
       "            ).addTo(map_7f0a48a17329c38ffcd9131903db1620);\n",
       "        \n",
       "    \n",
       "            var div_icon_7125fe762df8d2b8efbde6d59452fd72 = L.divIcon({&quot;className&quot;: &quot;empty&quot;, &quot;html&quot;: &quot;\\u003cdiv style=\\&quot;font-size: 12pt; color : black\\&quot;\\u003e491\\u003c/div\\u003e&quot;, &quot;iconAnchor&quot;: [7, 20], &quot;iconSize&quot;: [150, 36]});\n",
       "            marker_b6d08adf83c60dc0b210063407d52c4e.setIcon(div_icon_7125fe762df8d2b8efbde6d59452fd72);\n",
       "        \n",
       "    \n",
       "        var popup_eeaa1c00d2434d3fe61f237af3e06b6f = L.popup({&quot;maxWidth&quot;: &quot;100%&quot;});\n",
       "\n",
       "        \n",
       "            \n",
       "                var html_0515b6875ede8a43924e6a1c9ed70a8b = $(`&lt;div id=&quot;html_0515b6875ede8a43924e6a1c9ed70a8b&quot; style=&quot;width: 100.0%; height: 100.0%;&quot;&gt;Waitemata&lt;/div&gt;`)[0];\n",
       "                popup_eeaa1c00d2434d3fe61f237af3e06b6f.setContent(html_0515b6875ede8a43924e6a1c9ed70a8b);\n",
       "            \n",
       "        \n",
       "\n",
       "        marker_b6d08adf83c60dc0b210063407d52c4e.bindPopup(popup_eeaa1c00d2434d3fe61f237af3e06b6f)\n",
       "        ;\n",
       "\n",
       "        \n",
       "    \n",
       "    \n",
       "            var marker_950f71f5ee64900b10a68104f45d7260 = L.marker(\n",
       "                [-36.8430673, 174.7691893],\n",
       "                {}\n",
       "            ).addTo(map_7f0a48a17329c38ffcd9131903db1620);\n",
       "        \n",
       "    \n",
       "            var div_icon_b460728ebde9ef97b75951e50d50e430 = L.divIcon({&quot;className&quot;: &quot;empty&quot;, &quot;html&quot;: &quot;\\u003cdiv style=\\&quot;font-size: 12pt; color : black\\&quot;\\u003e468\\u003c/div\\u003e&quot;, &quot;iconAnchor&quot;: [7, 20], &quot;iconSize&quot;: [150, 36]});\n",
       "            marker_950f71f5ee64900b10a68104f45d7260.setIcon(div_icon_b460728ebde9ef97b75951e50d50e430);\n",
       "        \n",
       "    \n",
       "        var popup_652b43d66d2778b7d422463482c58a22 = L.popup({&quot;maxWidth&quot;: &quot;100%&quot;});\n",
       "\n",
       "        \n",
       "            \n",
       "                var html_5fabefa8482aec623f61ac752659d6a9 = $(`&lt;div id=&quot;html_5fabefa8482aec623f61ac752659d6a9&quot; style=&quot;width: 100.0%; height: 100.0%;&quot;&gt;Auckland CBD&lt;/div&gt;`)[0];\n",
       "                popup_652b43d66d2778b7d422463482c58a22.setContent(html_5fabefa8482aec623f61ac752659d6a9);\n",
       "            \n",
       "        \n",
       "\n",
       "        marker_950f71f5ee64900b10a68104f45d7260.bindPopup(popup_652b43d66d2778b7d422463482c58a22)\n",
       "        ;\n",
       "\n",
       "        \n",
       "    \n",
       "    \n",
       "            var marker_13dda58e0f6876ba1d6353369f425561 = L.marker(\n",
       "                [-41.2887953, 174.7772114],\n",
       "                {}\n",
       "            ).addTo(map_7f0a48a17329c38ffcd9131903db1620);\n",
       "        \n",
       "    \n",
       "            var div_icon_b136434f45b79a42310d7d79fc1a7b6d = L.divIcon({&quot;className&quot;: &quot;empty&quot;, &quot;html&quot;: &quot;\\u003cdiv style=\\&quot;font-size: 12pt; color : black\\&quot;\\u003e435\\u003c/div\\u003e&quot;, &quot;iconAnchor&quot;: [7, 20], &quot;iconSize&quot;: [150, 36]});\n",
       "            marker_13dda58e0f6876ba1d6353369f425561.setIcon(div_icon_b136434f45b79a42310d7d79fc1a7b6d);\n",
       "        \n",
       "    \n",
       "        var popup_fd94938f06d8cc192ee8dbcd3fb4a549 = L.popup({&quot;maxWidth&quot;: &quot;100%&quot;});\n",
       "\n",
       "        \n",
       "            \n",
       "                var html_c8c552b519aa3c392fd76d0daeb2ec8b = $(`&lt;div id=&quot;html_c8c552b519aa3c392fd76d0daeb2ec8b&quot; style=&quot;width: 100.0%; height: 100.0%;&quot;&gt;Wellington&lt;/div&gt;`)[0];\n",
       "                popup_fd94938f06d8cc192ee8dbcd3fb4a549.setContent(html_c8c552b519aa3c392fd76d0daeb2ec8b);\n",
       "            \n",
       "        \n",
       "\n",
       "        marker_13dda58e0f6876ba1d6353369f425561.bindPopup(popup_fd94938f06d8cc192ee8dbcd3fb4a549)\n",
       "        ;\n",
       "\n",
       "        \n",
       "    \n",
       "    \n",
       "            var marker_e7ce9b45d6b8b3e1c42c9d4315cec311 = L.marker(\n",
       "                [-37.9503756, 176.93828736155422],\n",
       "                {}\n",
       "            ).addTo(map_7f0a48a17329c38ffcd9131903db1620);\n",
       "        \n",
       "    \n",
       "            var div_icon_f9250682894b4c59c50e350dfcd779f9 = L.divIcon({&quot;className&quot;: &quot;empty&quot;, &quot;html&quot;: &quot;\\u003cdiv style=\\&quot;font-size: 12pt; color : black\\&quot;\\u003e388\\u003c/div\\u003e&quot;, &quot;iconAnchor&quot;: [7, 20], &quot;iconSize&quot;: [150, 36]});\n",
       "            marker_e7ce9b45d6b8b3e1c42c9d4315cec311.setIcon(div_icon_f9250682894b4c59c50e350dfcd779f9);\n",
       "        \n",
       "    \n",
       "        var popup_9a33338b976e21f31de6d3341f6cbc0e = L.popup({&quot;maxWidth&quot;: &quot;100%&quot;});\n",
       "\n",
       "        \n",
       "            \n",
       "                var html_85f1f7acb6415fca830afe0af2051010 = $(`&lt;div id=&quot;html_85f1f7acb6415fca830afe0af2051010&quot; style=&quot;width: 100.0%; height: 100.0%;&quot;&gt;Bay of Plenty&lt;/div&gt;`)[0];\n",
       "                popup_9a33338b976e21f31de6d3341f6cbc0e.setContent(html_85f1f7acb6415fca830afe0af2051010);\n",
       "            \n",
       "        \n",
       "\n",
       "        marker_e7ce9b45d6b8b3e1c42c9d4315cec311.bindPopup(popup_9a33338b976e21f31de6d3341f6cbc0e)\n",
       "        ;\n",
       "\n",
       "        \n",
       "    \n",
       "    \n",
       "            var marker_531752aedf69fa4689061fedd827d1b3 = L.marker(\n",
       "                [-35.3755091, 173.9470106440683],\n",
       "                {}\n",
       "            ).addTo(map_7f0a48a17329c38ffcd9131903db1620);\n",
       "        \n",
       "    \n",
       "            var div_icon_997f8a0346571db8f5e8642ce8a815b4 = L.divIcon({&quot;className&quot;: &quot;empty&quot;, &quot;html&quot;: &quot;\\u003cdiv style=\\&quot;font-size: 12pt; color : black\\&quot;\\u003e337\\u003c/div\\u003e&quot;, &quot;iconAnchor&quot;: [7, 20], &quot;iconSize&quot;: [150, 36]});\n",
       "            marker_531752aedf69fa4689061fedd827d1b3.setIcon(div_icon_997f8a0346571db8f5e8642ce8a815b4);\n",
       "        \n",
       "    \n",
       "        var popup_96dc61e0b3fac3007a1fcbdfe0b18bbb = L.popup({&quot;maxWidth&quot;: &quot;100%&quot;});\n",
       "\n",
       "        \n",
       "            \n",
       "                var html_2591fcf5ed4e4a2e4035063b1de698f0 = $(`&lt;div id=&quot;html_2591fcf5ed4e4a2e4035063b1de698f0&quot; style=&quot;width: 100.0%; height: 100.0%;&quot;&gt;Northland&lt;/div&gt;`)[0];\n",
       "                popup_96dc61e0b3fac3007a1fcbdfe0b18bbb.setContent(html_2591fcf5ed4e4a2e4035063b1de698f0);\n",
       "            \n",
       "        \n",
       "\n",
       "        marker_531752aedf69fa4689061fedd827d1b3.bindPopup(popup_96dc61e0b3fac3007a1fcbdfe0b18bbb)\n",
       "        ;\n",
       "\n",
       "        \n",
       "    \n",
       "    \n",
       "            var marker_28cb6b614e31d4237313467cdd8701e2 = L.marker(\n",
       "                [-42.614977, 171.3762227],\n",
       "                {}\n",
       "            ).addTo(map_7f0a48a17329c38ffcd9131903db1620);\n",
       "        \n",
       "    \n",
       "            var div_icon_29cc109c6cdb0af93ca786b7813189b2 = L.divIcon({&quot;className&quot;: &quot;empty&quot;, &quot;html&quot;: &quot;\\u003cdiv style=\\&quot;font-size: 12pt; color : black\\&quot;\\u003e228\\u003c/div\\u003e&quot;, &quot;iconAnchor&quot;: [7, 20], &quot;iconSize&quot;: [150, 36]});\n",
       "            marker_28cb6b614e31d4237313467cdd8701e2.setIcon(div_icon_29cc109c6cdb0af93ca786b7813189b2);\n",
       "        \n",
       "    \n",
       "        var popup_fcf69221b4e8d7fe41872244de6b2cf5 = L.popup({&quot;maxWidth&quot;: &quot;100%&quot;});\n",
       "\n",
       "        \n",
       "            \n",
       "                var html_8ff8a5973cc060a9741ad7824f33c5e3 = $(`&lt;div id=&quot;html_8ff8a5973cc060a9741ad7824f33c5e3&quot; style=&quot;width: 100.0%; height: 100.0%;&quot;&gt;Eastern&lt;/div&gt;`)[0];\n",
       "                popup_fcf69221b4e8d7fe41872244de6b2cf5.setContent(html_8ff8a5973cc060a9741ad7824f33c5e3);\n",
       "            \n",
       "        \n",
       "\n",
       "        marker_28cb6b614e31d4237313467cdd8701e2.bindPopup(popup_fcf69221b4e8d7fe41872244de6b2cf5)\n",
       "        ;\n",
       "\n",
       "        \n",
       "    \n",
       "    \n",
       "            var marker_e4d821362ca963dd50ecd054f7a33005 = L.marker(\n",
       "                [-45.0321923, 168.661],\n",
       "                {}\n",
       "            ).addTo(map_7f0a48a17329c38ffcd9131903db1620);\n",
       "        \n",
       "    \n",
       "            var div_icon_8f3724ccd04f180187a3dc10d00d508f = L.divIcon({&quot;className&quot;: &quot;empty&quot;, &quot;html&quot;: &quot;\\u003cdiv style=\\&quot;font-size: 12pt; color : black\\&quot;\\u003e155\\u003c/div\\u003e&quot;, &quot;iconAnchor&quot;: [7, 20], &quot;iconSize&quot;: [150, 36]});\n",
       "            marker_e4d821362ca963dd50ecd054f7a33005.setIcon(div_icon_8f3724ccd04f180187a3dc10d00d508f);\n",
       "        \n",
       "    \n",
       "        var popup_80c4c8595d0ba386a2cf5925ef675bce = L.popup({&quot;maxWidth&quot;: &quot;100%&quot;});\n",
       "\n",
       "        \n",
       "            \n",
       "                var html_31f27364dae1401e451cbf846a085b4d = $(`&lt;div id=&quot;html_31f27364dae1401e451cbf846a085b4d&quot; style=&quot;width: 100.0%; height: 100.0%;&quot;&gt;Queenstown&lt;/div&gt;`)[0];\n",
       "                popup_80c4c8595d0ba386a2cf5925ef675bce.setContent(html_31f27364dae1401e451cbf846a085b4d);\n",
       "            \n",
       "        \n",
       "\n",
       "        marker_e4d821362ca963dd50ecd054f7a33005.bindPopup(popup_80c4c8595d0ba386a2cf5925ef675bce)\n",
       "        ;\n",
       "\n",
       "        \n",
       "    \n",
       "    \n",
       "            var marker_2b1c92d6db21fbe83c34e1126aedf37c = L.marker(\n",
       "                [-41.30222105, 172.89453190955697],\n",
       "                {}\n",
       "            ).addTo(map_7f0a48a17329c38ffcd9131903db1620);\n",
       "        \n",
       "    \n",
       "            var div_icon_22a6713e89cc9c9b7264182332f99a03 = L.divIcon({&quot;className&quot;: &quot;empty&quot;, &quot;html&quot;: &quot;\\u003cdiv style=\\&quot;font-size: 12pt; color : black\\&quot;\\u003e71\\u003c/div\\u003e&quot;, &quot;iconAnchor&quot;: [7, 20], &quot;iconSize&quot;: [150, 36]});\n",
       "            marker_2b1c92d6db21fbe83c34e1126aedf37c.setIcon(div_icon_22a6713e89cc9c9b7264182332f99a03);\n",
       "        \n",
       "    \n",
       "        var popup_c5a8f04c3f308f228abc0f477ea97ddf = L.popup({&quot;maxWidth&quot;: &quot;100%&quot;});\n",
       "\n",
       "        \n",
       "            \n",
       "                var html_cfd21e5b30f3421c82d5c48be0241f6a = $(`&lt;div id=&quot;html_cfd21e5b30f3421c82d5c48be0241f6a&quot; style=&quot;width: 100.0%; height: 100.0%;&quot;&gt;Tasman&lt;/div&gt;`)[0];\n",
       "                popup_c5a8f04c3f308f228abc0f477ea97ddf.setContent(html_cfd21e5b30f3421c82d5c48be0241f6a);\n",
       "            \n",
       "        \n",
       "\n",
       "        marker_2b1c92d6db21fbe83c34e1126aedf37c.bindPopup(popup_c5a8f04c3f308f228abc0f477ea97ddf)\n",
       "        ;\n",
       "\n",
       "        \n",
       "    \n",
       "    \n",
       "            map_7f0a48a17329c38ffcd9131903db1620.fitBounds(\n",
       "                [[-44.9552, 165], [-35, 180]],\n",
       "                {}\n",
       "            );\n",
       "        \n",
       "&lt;/script&gt;\n",
       "&lt;/html&gt;\" style=\"position:absolute;width:100%;height:100%;left:0;top:0;border:none !important;\" allowfullscreen webkitallowfullscreen mozallowfullscreen></iframe></div></div>"
      ],
      "text/plain": [
       "<folium.folium.Map at 0x7f8fc8ce6df0>"
      ]
     },
     "execution_count": 26,
     "metadata": {},
     "output_type": "execute_result"
    }
   ],
   "source": [
    "import folium\n",
    "from folium.features import DivIcon\n",
    "map_of_sv = folium.Map(location=[-41.5000831, 172.8344077], zoom_start=13)\n",
    "\n",
    "for i in sv_location.index:\n",
    "    data = geolocator.geocode(i+',NZ')\n",
    "    folium.Marker(location=[data.point.latitude , data.point.longitude], popup=i,icon=DivIcon(\n",
    "        icon_size=(150,36),\n",
    "        icon_anchor=(7,20),\n",
    "        html=f'''<div style=\"font-size: 12pt; color : black\">{sv_location.loc[i].num}</div>''')).add_to(map_of_sv)\n",
    "\n",
    "bounds = [[-44.9552, 165], [-35, 180]]\n",
    "map_of_sv.fit_bounds(bounds)\n",
    "map_of_sv"
   ]
  },
  {
   "cell_type": "markdown",
   "id": "92dd1a77",
   "metadata": {},
   "source": [
    "<div class=\"alert alert-info\">\n",
    "There are no clear patterns found in the crime distribution map above. It is worth noting that the Northland has a higher number of cases compared to the South Island due to the fact that 75% of New Zealand's population resides in the North Island. While Canterbury may appear to have an unusually high number of cases, this can be explained by the fact that it is the largest region in the country by area.</div> "
   ]
  },
  {
   "cell_type": "markdown",
   "id": "66d174fc",
   "metadata": {},
   "source": [
    "Epilogue:I have observed that many of data analysis reports do not rely heavily on advanced machine learning techniques, but rather use simple numerical and statistical analysis methods. Despite this, the conclusions drawn from the analysis often align with practical knowledge, making the report valuable. As such, I have found it rewarding to attempt to analyze data using more straightforward methods and new approaches, rather than relying solely on machine learning techniques."
   ]
  }
 ],
 "metadata": {
  "kernelspec": {
   "display_name": "Python 3",
   "language": "python",
   "name": "python3"
  },
  "language_info": {
   "codemirror_mode": {
    "name": "ipython",
    "version": 3
   },
   "file_extension": ".py",
   "mimetype": "text/x-python",
   "name": "python",
   "nbconvert_exporter": "python",
   "pygments_lexer": "ipython3",
   "version": "3.8.8"
  }
 },
 "nbformat": 4,
 "nbformat_minor": 5
}
